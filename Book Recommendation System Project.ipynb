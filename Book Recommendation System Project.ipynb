{
 "cells": [
  {
   "cell_type": "markdown",
   "metadata": {},
   "source": [
    "# Chowdhary Vraj Pareshkumar"
   ]
  },
  {
   "cell_type": "markdown",
   "metadata": {
    "application/vnd.databricks.v1+cell": {
     "cellMetadata": {},
     "inputWidgets": {},
     "nuid": "67a90827-31cb-4668-84df-12b99fa55a87",
     "showTitle": false,
     "tableResultSettingsMap": {},
     "title": ""
    }
   },
   "source": [
    "### Configuring Spark to Access Azure Data Lake Storage Gen2"
   ]
  },
  {
   "cell_type": "code",
   "execution_count": null,
   "metadata": {
    "application/vnd.databricks.v1+cell": {
     "cellMetadata": {
      "byteLimit": 2048000,
      "rowLimit": 10000
     },
     "inputWidgets": {},
     "nuid": "0ce01f00-318c-4323-a8eb-028b91a44f3b",
     "showTitle": false,
     "tableResultSettingsMap": {},
     "title": ""
    }
   },
   "outputs": [],
   "source": [
    "# Connect notebook with storage account\n",
    "spark.conf.set(\n",
    "\"fs.azure.account.key.storagevjbigdataproject.dfs.core.windows.net\",\n",
    "\"***\") "
   ]
  },
  {
   "cell_type": "code",
   "execution_count": 0,
   "metadata": {
    "application/vnd.databricks.v1+cell": {
     "cellMetadata": {
      "byteLimit": 2048000,
      "rowLimit": 10000
     },
     "inputWidgets": {},
     "nuid": "c46b3047-fe0d-4fa4-9039-80c8fc4517df",
     "showTitle": false,
     "tableResultSettingsMap": {},
     "title": ""
    }
   },
   "outputs": [],
   "source": [
    "# Define the path to the ADLS Gen2 storage container\n",
    "adls_path = \"abfss://containertargetdatavjbigdataproject@storagevjbigdataproject.dfs.core.windows.net/\"\n",
    "\n",
    "# Use dbutils.fs.ls to list the contents of the specified path\n",
    "contents = dbutils.fs.ls(adls_path)"
   ]
  },
  {
   "cell_type": "code",
   "execution_count": 0,
   "metadata": {
    "application/vnd.databricks.v1+cell": {
     "cellMetadata": {
      "byteLimit": 2048000,
      "rowLimit": 10000
     },
     "inputWidgets": {},
     "nuid": "ab430794-1a3b-4ac1-bef7-8cb68eab3453",
     "showTitle": false,
     "tableResultSettingsMap": {},
     "title": ""
    }
   },
   "outputs": [
    {
     "data": {
      "text/plain": [
       "[FileInfo(path='abfss://containertargetdatavjbigdataproject@storagevjbigdataproject.dfs.core.windows.net/Books.csv', name='Books.csv', size=73293635, modificationTime=1740077348000),\n",
       " FileInfo(path='abfss://containertargetdatavjbigdataproject@storagevjbigdataproject.dfs.core.windows.net/Ratings.csv', name='Ratings.csv', size=22633892, modificationTime=1740078614000),\n",
       " FileInfo(path='abfss://containertargetdatavjbigdataproject@storagevjbigdataproject.dfs.core.windows.net/Users.csv', name='Users.csv', size=11017438, modificationTime=1740078757000)]"
      ]
     },
     "execution_count": 8,
     "metadata": {},
     "output_type": "execute_result"
    }
   ],
   "source": [
    "contents"
   ]
  },
  {
   "cell_type": "code",
   "execution_count": 0,
   "metadata": {
    "application/vnd.databricks.v1+cell": {
     "cellMetadata": {},
     "inputWidgets": {},
     "nuid": "4b8acd11-7fae-4dfa-a6a4-c3b13553b31e",
     "showTitle": false,
     "tableResultSettingsMap": {},
     "title": ""
    }
   },
   "outputs": [],
   "source": []
  },
  {
   "cell_type": "markdown",
   "metadata": {
    "application/vnd.databricks.v1+cell": {
     "cellMetadata": {},
     "inputWidgets": {},
     "nuid": "6b08a4b0-1145-44a9-97d7-f360a2609ed1",
     "showTitle": false,
     "tableResultSettingsMap": {},
     "title": ""
    }
   },
   "source": [
    "### Now we will perform EDA on these datasets"
   ]
  },
  {
   "cell_type": "markdown",
   "metadata": {
    "application/vnd.databricks.v1+cell": {
     "cellMetadata": {},
     "inputWidgets": {},
     "nuid": "3854ee48-f83c-4973-bf60-e76a4dbbdf0b",
     "showTitle": false,
     "tableResultSettingsMap": {},
     "title": ""
    }
   },
   "source": [
    "## Importing Libraries and Loading Data"
   ]
  },
  {
   "cell_type": "code",
   "execution_count": 0,
   "metadata": {
    "application/vnd.databricks.v1+cell": {
     "cellMetadata": {
      "byteLimit": 2048000,
      "rowLimit": 10000
     },
     "inputWidgets": {},
     "nuid": "47f63a57-b34b-4815-a8ea-ce3f4e756389",
     "showTitle": false,
     "tableResultSettingsMap": {},
     "title": ""
    }
   },
   "outputs": [],
   "source": [
    "# Import necessary libraries\n",
    "from pyspark.sql import SparkSession\n",
    "from pyspark.sql.functions import col, count, desc, isnull, mean, when, explode\n",
    "from pyspark.sql import functions as F\n",
    "\n",
    "\n",
    "# Initialize the Spark session\n",
    "spark = SparkSession.builder.appName(\"Book Recommendation System\").getOrCreate()"
   ]
  },
  {
   "cell_type": "code",
   "execution_count": 0,
   "metadata": {
    "application/vnd.databricks.v1+cell": {
     "cellMetadata": {
      "byteLimit": 2048000,
      "rowLimit": 10000
     },
     "inputWidgets": {},
     "nuid": "aac3d3d1-f5ba-4201-a6c4-274992dba5cb",
     "showTitle": false,
     "tableResultSettingsMap": {},
     "title": ""
    }
   },
   "outputs": [],
   "source": [
    "# Define the path to the storage container\n",
    "adls_path = \"abfss://containertargetdatavjbigdataproject@storagevjbigdataproject.dfs.core.windows.net/\"\n",
    "\n",
    "# Importing our datasets as PySpark Dataframes\n",
    "# Load Books dataset \n",
    "books_df = spark.read.csv(adls_path + 'Books.csv', header=True, inferSchema=True)\n",
    "\n",
    "# Load Ratings dataset \n",
    "ratings_df = spark.read.csv(adls_path + 'Ratings.csv', header=True, inferSchema=True)\n",
    "\n",
    "# Load Users dataset \n",
    "users_df = spark.read.csv(adls_path + 'Users.csv', header=True, inferSchema=True)\n"
   ]
  },
  {
   "cell_type": "markdown",
   "metadata": {
    "application/vnd.databricks.v1+cell": {
     "cellMetadata": {},
     "inputWidgets": {},
     "nuid": "3bf4a61b-a0a9-41df-9144-60d1ebf00d3b",
     "showTitle": false,
     "tableResultSettingsMap": {},
     "title": ""
    }
   },
   "source": [
    "## 1. Basic Statistics Operations"
   ]
  },
  {
   "cell_type": "code",
   "execution_count": 0,
   "metadata": {
    "application/vnd.databricks.v1+cell": {
     "cellMetadata": {
      "byteLimit": 2048000,
      "rowLimit": 10000
     },
     "inputWidgets": {},
     "nuid": "3bde1be5-cf4d-487f-9652-13c44d37c9ea",
     "showTitle": false,
     "tableResultSettingsMap": {},
     "title": ""
    }
   },
   "outputs": [
    {
     "name": "stdout",
     "output_type": "stream",
     "text": [
      "Books dataset statistics:\n",
      "+-------+--------------------+--------------------+--------------------+--------------------+--------------------+--------------------+--------------------+--------------------+\n",
      "|summary|                ISBN|          Book-Title|         Book-Author| Year-Of-Publication|           Publisher|         Image-URL-S|         Image-URL-M|         Image-URL-L|\n",
      "+-------+--------------------+--------------------+--------------------+--------------------+--------------------+--------------------+--------------------+--------------------+\n",
      "|  count|              271360|              271360|              271359|              271360|              271358|              271360|              271360|              271357|\n",
      "|   mean|1.0412234356977516E9|            Infinity|              2001.0|   1959.754171535147|  3765.6153846153848|             1992.25|              1984.5|             1988.25|\n",
      "| stddev|1.4877142833957233E9|                -NaN|  1.7320508075688772|   258.0194498067871|  7963.0591536808415|   9.863845829363598|  0.7071067811865476|    7.13559154286923|\n",
      "|    min|          0000913154| A Light in the S...| 15th Illinois Vo...|                1961| As Taught at the...| 1865. (Collector...|          Bill Stern|       Our Miss b\"\"\"|\n",
      "|    max|          B0002K6K8O|   Ã?Â?thique en toc|      Ã?Â?ric Holder|and the Final Rid...|      Ã?Â¶bv&amp;hpt|http://images.ama...|http://images.ama...|http://images.ama...|\n",
      "+-------+--------------------+--------------------+--------------------+--------------------+--------------------+--------------------+--------------------+--------------------+\n",
      "\n",
      "Ratings dataset statistics:\n",
      "+-------+------------------+-----------+------------------+\n",
      "|summary|           User-ID|       ISBN|       Book-Rating|\n",
      "+-------+------------------+-----------+------------------+\n",
      "|  count|           1149780|    1149780|           1149780|\n",
      "|   mean|140386.39512602412|   Infinity|2.8669501991685364|\n",
      "| stddev| 80562.27771851212|       -NaN|3.8541838592016546|\n",
      "|    min|                 2| 0330299891|                 0|\n",
      "|    max|            278854|  Ô½crosoft|                10|\n",
      "+-------+------------------+-----------+------------------+\n",
      "\n",
      "Users dataset statistics:\n",
      "+-------+-----------------+------------------+------------------+\n",
      "|summary|          User-ID|          Location|               Age|\n",
      "+-------+-----------------+------------------+------------------+\n",
      "|  count|           278858|            278859|            168341|\n",
      "|   mean|         139429.5|              NULL|34.751833915812824|\n",
      "| stddev|80499.51502027822|              NULL| 14.43101026844749|\n",
      "|    min|                1|             milan| \\\"\"alexandria\\\"\".|\n",
      "|    max|           278858|ýzmýr, n/a, turkey|              99.0|\n",
      "+-------+-----------------+------------------+------------------+\n",
      "\n"
     ]
    }
   ],
   "source": [
    "# Display basic statistics for the Books dataset\n",
    "print(\"Books dataset statistics:\")\n",
    "books_df.describe().show()\n",
    "\n",
    "# Display basic statistics for the Ratings dataset\n",
    "print(\"Ratings dataset statistics:\")\n",
    "ratings_df.describe().show()\n",
    "\n",
    "# Display basic statistics for the Users dataset\n",
    "print(\"Users dataset statistics:\")\n",
    "users_df.describe().show()"
   ]
  },
  {
   "cell_type": "markdown",
   "metadata": {
    "application/vnd.databricks.v1+cell": {
     "cellMetadata": {},
     "inputWidgets": {},
     "nuid": "ff5ee4de-7032-4f52-aa49-afe094efdbd0",
     "showTitle": false,
     "tableResultSettingsMap": {},
     "title": ""
    }
   },
   "source": [
    "## 2. Check and Handle Missing Values"
   ]
  },
  {
   "cell_type": "code",
   "execution_count": 0,
   "metadata": {
    "application/vnd.databricks.v1+cell": {
     "cellMetadata": {
      "byteLimit": 2048000,
      "rowLimit": 10000
     },
     "inputWidgets": {},
     "nuid": "b3a67c3f-8925-421f-8c73-01afb88aa9ae",
     "showTitle": false,
     "tableResultSettingsMap": {},
     "title": ""
    }
   },
   "outputs": [
    {
     "name": "stdout",
     "output_type": "stream",
     "text": [
      "Missing values in Books dataset:\n",
      "+----+----------+-----------+-------------------+---------+-----------+-----------+-----------+\n",
      "|ISBN|Book-Title|Book-Author|Year-Of-Publication|Publisher|Image-URL-S|Image-URL-M|Image-URL-L|\n",
      "+----+----------+-----------+-------------------+---------+-----------+-----------+-----------+\n",
      "|   0|         0|          1|                  0|        2|          0|          0|          3|\n",
      "+----+----------+-----------+-------------------+---------+-----------+-----------+-----------+\n",
      "\n",
      "Missing values in Ratings dataset:\n",
      "+-------+----+-----------+\n",
      "|User-ID|ISBN|Book-Rating|\n",
      "+-------+----+-----------+\n",
      "|      0|   0|          0|\n",
      "+-------+----+-----------+\n",
      "\n",
      "Missing values in Users dataset:\n",
      "+-------+--------+------+\n",
      "|User-ID|Location|   Age|\n",
      "+-------+--------+------+\n",
      "|      1|       0|110518|\n",
      "+-------+--------+------+\n",
      "\n"
     ]
    }
   ],
   "source": [
    "# Calculate missing values in each column of the Books dataset\n",
    "print(\"Missing values in Books dataset:\")\n",
    "books_df.select([count(when(isnull(c), c)).alias(c) for c in books_df.columns]).show()\n",
    "\n",
    "# Calculate missing values in each column of the Ratings dataset\n",
    "print(\"Missing values in Ratings dataset:\")\n",
    "ratings_df.select([count(when(isnull(c), c)).alias(c) for c in ratings_df.columns]).show()\n",
    "\n",
    "# Calculate missing values in each column of the Users dataset\n",
    "print(\"Missing values in Users dataset:\")\n",
    "users_df.select([count(when(isnull(c), c)).alias(c) for c in users_df.columns]).show()"
   ]
  },
  {
   "cell_type": "markdown",
   "metadata": {
    "application/vnd.databricks.v1+cell": {
     "cellMetadata": {},
     "inputWidgets": {},
     "nuid": "c326610b-5d15-4bee-9677-502990670da3",
     "showTitle": false,
     "tableResultSettingsMap": {},
     "title": ""
    }
   },
   "source": [
    "### 2.1. Handling Missing Values in Books Dataset"
   ]
  },
  {
   "cell_type": "code",
   "execution_count": 0,
   "metadata": {
    "application/vnd.databricks.v1+cell": {
     "cellMetadata": {
      "byteLimit": 2048000,
      "rowLimit": 10000
     },
     "inputWidgets": {},
     "nuid": "4afe7f39-32b5-4bbb-af88-74cf2eb35bc5",
     "showTitle": false,
     "tableResultSettingsMap": {},
     "title": ""
    }
   },
   "outputs": [
    {
     "name": "stdout",
     "output_type": "stream",
     "text": [
      "Handled missing values in Books dataset.\n"
     ]
    }
   ],
   "source": [
    "# Removing rows with missing ISBNs, Book-Title, Book-Author, or Publisher\n",
    "books_df = books_df.dropna(subset=[\"ISBN\", \"Book-Title\", \"Book-Author\", \"Publisher\"])\n",
    "\n",
    "# Fill missing values for Year-Of-Publication with a placeholder value of -1\n",
    "books_df = books_df.fillna({\"Year-Of-Publication\": -1})\n",
    "\n",
    "# Fill missing image URLs with a default URL or leave them as is\n",
    "# Example: books_df = books_df.fillna({\"Image-URL-S\": \"default_url\", \"Image-URL-M\": \"default_url\", \"Image-URL-L\": \"default_url\"})\n",
    "\n",
    "print(\"Handled missing values in Books dataset.\")"
   ]
  },
  {
   "cell_type": "markdown",
   "metadata": {
    "application/vnd.databricks.v1+cell": {
     "cellMetadata": {},
     "inputWidgets": {},
     "nuid": "84207b5b-1749-4e40-aebc-dc91f0affd9c",
     "showTitle": false,
     "tableResultSettingsMap": {},
     "title": ""
    }
   },
   "source": [
    "### 2.2. Handling Missing Values in Ratings Dataset"
   ]
  },
  {
   "cell_type": "code",
   "execution_count": 0,
   "metadata": {
    "application/vnd.databricks.v1+cell": {
     "cellMetadata": {
      "byteLimit": 2048000,
      "rowLimit": 10000
     },
     "inputWidgets": {},
     "nuid": "7cd1c93c-964b-4421-abfb-7f597cbe47c3",
     "showTitle": false,
     "tableResultSettingsMap": {},
     "title": ""
    }
   },
   "outputs": [
    {
     "name": "stdout",
     "output_type": "stream",
     "text": [
      "Handled missing values in Ratings dataset.\n"
     ]
    }
   ],
   "source": [
    "# Removing rows with missing User-ID, ISBN, or Book-Rating\n",
    "ratings_df = ratings_df.dropna(subset=[\"User-ID\", \"ISBN\", \"Book-Rating\"])\n",
    "\n",
    "print(\"Handled missing values in Ratings dataset.\")"
   ]
  },
  {
   "cell_type": "markdown",
   "metadata": {
    "application/vnd.databricks.v1+cell": {
     "cellMetadata": {},
     "inputWidgets": {},
     "nuid": "f41e4139-f8eb-4637-9144-3c51eed9fdea",
     "showTitle": false,
     "tableResultSettingsMap": {},
     "title": ""
    }
   },
   "source": [
    "### 2.3. Handling Missing Values in Users Dataset"
   ]
  },
  {
   "cell_type": "code",
   "execution_count": 0,
   "metadata": {
    "application/vnd.databricks.v1+cell": {
     "cellMetadata": {
      "byteLimit": 2048000,
      "rowLimit": 10000
     },
     "inputWidgets": {},
     "nuid": "a149d74d-ec86-4ee5-98a0-53a35c63de95",
     "showTitle": false,
     "tableResultSettingsMap": {},
     "title": ""
    }
   },
   "outputs": [
    {
     "name": "stdout",
     "output_type": "stream",
     "text": [
      "Handled missing values in Users dataset.\n"
     ]
    }
   ],
   "source": [
    "# Removing rows with missing User-ID\n",
    "users_df = users_df.dropna(subset=[\"User-ID\"])\n",
    "\n",
    "# Replace missing value of location column with a placeholder value \"Unknown\"\n",
    "users_df = users_df.fillna({\"Location\": \"Unknown\"})\n",
    "\n",
    "# Replace missing Age with the mean age (you can also use median)\n",
    "mean_age = users_df.select(F.mean(\"Age\")).first()[0]\n",
    "users_df = users_df.fillna({\"Age\": mean_age})\n",
    "\n",
    "print(\"Handled missing values in Users dataset.\")"
   ]
  },
  {
   "cell_type": "markdown",
   "metadata": {
    "application/vnd.databricks.v1+cell": {
     "cellMetadata": {},
     "inputWidgets": {},
     "nuid": "e84255d4-736e-450d-a349-34039490a8bf",
     "showTitle": false,
     "tableResultSettingsMap": {},
     "title": ""
    }
   },
   "source": [
    "##After Handling missing values let's check if we have any missing values or not"
   ]
  },
  {
   "cell_type": "code",
   "execution_count": 0,
   "metadata": {
    "application/vnd.databricks.v1+cell": {
     "cellMetadata": {
      "byteLimit": 2048000,
      "rowLimit": 10000
     },
     "inputWidgets": {},
     "nuid": "c5d40873-4763-4fc7-9db0-2d35c6e793ab",
     "showTitle": false,
     "tableResultSettingsMap": {},
     "title": ""
    }
   },
   "outputs": [
    {
     "name": "stdout",
     "output_type": "stream",
     "text": [
      "Missing values in Books dataset:\n",
      "+----+----------+-----------+-------------------+---------+-----------+-----------+-----------+\n",
      "|ISBN|Book-Title|Book-Author|Year-Of-Publication|Publisher|Image-URL-S|Image-URL-M|Image-URL-L|\n",
      "+----+----------+-----------+-------------------+---------+-----------+-----------+-----------+\n",
      "|   0|         0|          0|                  0|        0|          0|          0|          3|\n",
      "+----+----------+-----------+-------------------+---------+-----------+-----------+-----------+\n",
      "\n",
      "Missing values in Ratings dataset:\n",
      "+-------+----+-----------+\n",
      "|User-ID|ISBN|Book-Rating|\n",
      "+-------+----+-----------+\n",
      "|      0|   0|          0|\n",
      "+-------+----+-----------+\n",
      "\n",
      "Missing values in Users dataset:\n",
      "+-------+--------+---+\n",
      "|User-ID|Location|Age|\n",
      "+-------+--------+---+\n",
      "|      0|       0|  0|\n",
      "+-------+--------+---+\n",
      "\n"
     ]
    }
   ],
   "source": [
    "# Calculate missing values in each column of the Books dataset\n",
    "print(\"Missing values in Books dataset:\")\n",
    "books_df.select([count(when(isnull(c), c)).alias(c) for c in books_df.columns]).show()\n",
    "\n",
    "# Calculate missing values in each column of the Ratings dataset\n",
    "print(\"Missing values in Ratings dataset:\")\n",
    "ratings_df.select([count(when(isnull(c), c)).alias(c) for c in ratings_df.columns]).show()\n",
    "\n",
    "# Calculate missing values in each column of the Users dataset\n",
    "print(\"Missing values in Users dataset:\")\n",
    "users_df.select([count(when(isnull(c), c)).alias(c) for c in users_df.columns]).show()"
   ]
  },
  {
   "cell_type": "markdown",
   "metadata": {
    "application/vnd.databricks.v1+cell": {
     "cellMetadata": {},
     "inputWidgets": {},
     "nuid": "7e19c258-01a2-4816-a914-d15dd31ae678",
     "showTitle": false,
     "tableResultSettingsMap": {},
     "title": ""
    }
   },
   "source": [
    "## 3. Dataset Sizes"
   ]
  },
  {
   "cell_type": "code",
   "execution_count": 0,
   "metadata": {
    "application/vnd.databricks.v1+cell": {
     "cellMetadata": {
      "byteLimit": 2048000,
      "rowLimit": 10000
     },
     "inputWidgets": {},
     "nuid": "cb9e8ac5-0a23-45ae-8105-376e958368aa",
     "showTitle": false,
     "tableResultSettingsMap": {},
     "title": ""
    }
   },
   "outputs": [
    {
     "name": "stdout",
     "output_type": "stream",
     "text": [
      "Books dataset size:\n",
      "(271357, 8)\n",
      "Ratings dataset size:\n",
      "(1149780, 3)\n",
      "Users dataset size:\n",
      "(278858, 3)\n"
     ]
    }
   ],
   "source": [
    "# Calculate the number of rows and columns in the Books dataset\n",
    "print(\"Books dataset size:\")\n",
    "print((books_df.count(), len(books_df.columns)))\n",
    "\n",
    "# Calculate the number of rows and columns in the Ratings dataset\n",
    "print(\"Ratings dataset size:\")\n",
    "print((ratings_df.count(), len(ratings_df.columns)))\n",
    "\n",
    "# Calculate the number of rows and columns in the Users dataset\n",
    "print(\"Users dataset size:\")\n",
    "print((users_df.count(), len(users_df.columns)))"
   ]
  },
  {
   "cell_type": "markdown",
   "metadata": {
    "application/vnd.databricks.v1+cell": {
     "cellMetadata": {},
     "inputWidgets": {},
     "nuid": "0847ea21-c9e3-49bd-a533-b79a757e3a0f",
     "showTitle": false,
     "tableResultSettingsMap": {},
     "title": ""
    }
   },
   "source": [
    "## 4. Books Data Analysis"
   ]
  },
  {
   "cell_type": "code",
   "execution_count": 0,
   "metadata": {
    "application/vnd.databricks.v1+cell": {
     "cellMetadata": {
      "byteLimit": 2048000,
      "rowLimit": 10000
     },
     "inputWidgets": {},
     "nuid": "937deddc-799c-4ec6-9c4c-2105f4ed80a9",
     "showTitle": false,
     "tableResultSettingsMap": {},
     "title": ""
    }
   },
   "outputs": [
    {
     "name": "stdout",
     "output_type": "stream",
     "text": [
      "Year-Of-Publication distribution:\n",
      "+--------------------+-----+\n",
      "| Year-Of-Publication|count|\n",
      "+--------------------+-----+\n",
      "|                1961|    1|\n",
      "|              D.S.O.|    1|\n",
      "| Internet (La cou...|    1|\n",
      "|          Mary Noble|    1|\n",
      "|    Relationships\"\"\"|    1|\n",
      "| Slimmer--And How...|    1|\n",
      "| \\\"\"The School fo...|    1|\n",
      "| acht unpaginiert...|    1|\n",
      "| and Anti-Environ...|    1|\n",
      "| and Box-Office M...|    1|\n",
      "| and Murder (St. ...|    1|\n",
      "| and Musicians at...|    1|\n",
      "|           and River|    1|\n",
      "|         and Text\"\"\"|    1|\n",
      "| and \\\"\"I\\\"\" Is f...|    1|\n",
      "| and tasty! : com...|    1|\n",
      "| samtaler med PÃ¤...|    1|\n",
      "|\"Del \\Irish\"\" Mea...|    1|\n",
      "|                   0| 4618|\n",
      "|                1376|    1|\n",
      "+--------------------+-----+\n",
      "only showing top 20 rows\n",
      "\n",
      "Top Publishers:\n",
      "+--------------------+-----+\n",
      "|           Publisher|count|\n",
      "+--------------------+-----+\n",
      "|           Harlequin| 7533|\n",
      "|          Silhouette| 4220|\n",
      "|              Pocket| 3905|\n",
      "|    Ballantine Books| 3782|\n",
      "|        Bantam Books| 3645|\n",
      "|          Scholastic| 3159|\n",
      "|Simon &amp; Schuster| 2969|\n",
      "|       Penguin Books| 2843|\n",
      "|Berkley Publishin...| 2771|\n",
      "|        Warner Books| 2727|\n",
      "+--------------------+-----+\n",
      "only showing top 10 rows\n",
      "\n",
      "Length of book titles:\n",
      "+-------+-----------------+\n",
      "|summary|     title_length|\n",
      "+-------+-----------------+\n",
      "|  count|           271357|\n",
      "|   mean|37.83079485695965|\n",
      "| stddev|25.20519001312427|\n",
      "|    min|                1|\n",
      "|    max|              259|\n",
      "+-------+-----------------+\n",
      "\n"
     ]
    }
   ],
   "source": [
    "# Analyze the distribution of Year-Of-Publication\n",
    "print(\"Year-Of-Publication distribution:\")\n",
    "books_df.groupBy(\"Year-Of-Publication\").count().orderBy(\"Year-Of-Publication\").show()\n",
    "\n",
    "# Identify the top publishers based on the number of books published\n",
    "print(\"Top Publishers:\")\n",
    "books_df.groupBy(\"Publisher\").count().orderBy(desc(\"count\")).show(10)\n",
    "\n",
    "# Analyze the length of book titles and summarize the statistics\n",
    "print(\"Length of book titles:\")\n",
    "books_df.withColumn(\"title_length\", F.length(col(\"Book-Title\"))).describe(\"title_length\").show()"
   ]
  },
  {
   "cell_type": "markdown",
   "metadata": {
    "application/vnd.databricks.v1+cell": {
     "cellMetadata": {},
     "inputWidgets": {},
     "nuid": "a37c6621-b317-4dbd-a0be-0f99f5cdfbe1",
     "showTitle": false,
     "tableResultSettingsMap": {},
     "title": ""
    }
   },
   "source": [
    "### 4.1 Year-Of-Publication Data Cleaning and Type Conversion"
   ]
  },
  {
   "cell_type": "code",
   "execution_count": 0,
   "metadata": {
    "application/vnd.databricks.v1+cell": {
     "cellMetadata": {
      "byteLimit": 2048000,
      "rowLimit": 10000
     },
     "inputWidgets": {},
     "nuid": "0edb1dc8-30fb-42d8-8f9b-87214c840d1f",
     "showTitle": false,
     "tableResultSettingsMap": {},
     "title": ""
    }
   },
   "outputs": [
    {
     "name": "stdout",
     "output_type": "stream",
     "text": [
      "Cleaned and converted Year-Of-Publication to integer in Books dataset\n"
     ]
    }
   ],
   "source": [
    "# Clean and convert Year-Of-Publication in Books dataset to integer\n",
    "def clean_year_of_publication(df):\n",
    "    df = df.filter((df[\"Year-Of-Publication\"].cast(\"int\").isNotNull()) & \n",
    "                   (df[\"Year-Of-Publication\"].cast(\"int\") >= 1800) & \n",
    "                   (df[\"Year-Of-Publication\"].cast(\"int\") <= 2023))\n",
    "    return df.withColumn(\"Year-Of-Publication\", df[\"Year-Of-Publication\"].cast(\"int\"))\n",
    "\n",
    "books_df = clean_year_of_publication(books_df)\n",
    "print(\"Cleaned and converted Year-Of-Publication to integer in Books dataset\")"
   ]
  },
  {
   "cell_type": "code",
   "execution_count": 0,
   "metadata": {
    "application/vnd.databricks.v1+cell": {
     "cellMetadata": {
      "byteLimit": 2048000,
      "rowLimit": 10000
     },
     "inputWidgets": {},
     "nuid": "fdd936ef-2805-4442-be6b-0ec00bd1ed99",
     "showTitle": false,
     "tableResultSettingsMap": {},
     "title": ""
    }
   },
   "outputs": [
    {
     "name": "stdout",
     "output_type": "stream",
     "text": [
      "Year-Of-Publication distribution:\n",
      "+-------------------+-----+\n",
      "|Year-Of-Publication|count|\n",
      "+-------------------+-----+\n",
      "|               1806|    1|\n",
      "|               1897|    1|\n",
      "|               1900|    3|\n",
      "|               1901|    7|\n",
      "|               1902|    2|\n",
      "|               1904|    1|\n",
      "|               1906|    1|\n",
      "|               1908|    1|\n",
      "|               1909|    2|\n",
      "|               1910|    1|\n",
      "|               1911|   19|\n",
      "|               1914|    1|\n",
      "|               1917|    1|\n",
      "|               1919|    1|\n",
      "|               1920|   33|\n",
      "|               1921|    2|\n",
      "|               1922|    2|\n",
      "|               1923|   11|\n",
      "|               1924|    2|\n",
      "|               1925|    2|\n",
      "+-------------------+-----+\n",
      "only showing top 20 rows\n",
      "\n"
     ]
    }
   ],
   "source": [
    "# Analyze the distribution of Year-Of-Publication\n",
    "print(\"Year-Of-Publication distribution:\")\n",
    "books_df.groupBy(\"Year-Of-Publication\").count().orderBy(\"Year-Of-Publication\").show()"
   ]
  },
  {
   "cell_type": "markdown",
   "metadata": {
    "application/vnd.databricks.v1+cell": {
     "cellMetadata": {},
     "inputWidgets": {},
     "nuid": "cac42516-3be0-40b9-a753-71492d491cd2",
     "showTitle": false,
     "tableResultSettingsMap": {},
     "title": ""
    }
   },
   "source": [
    "### 4.2. Duplicate entries in the Books"
   ]
  },
  {
   "cell_type": "code",
   "execution_count": 0,
   "metadata": {
    "application/vnd.databricks.v1+cell": {
     "cellMetadata": {
      "byteLimit": 2048000,
      "rowLimit": 10000
     },
     "inputWidgets": {},
     "nuid": "38a3649f-9e43-4133-b59a-25677b668a2c",
     "showTitle": false,
     "tableResultSettingsMap": {},
     "title": ""
    }
   },
   "outputs": [
    {
     "name": "stdout",
     "output_type": "stream",
     "text": [
      "Checking for duplicate entries in Books dataset:\n",
      "Number of duplicate entries in Books dataset: 0\n"
     ]
    }
   ],
   "source": [
    "# Check for duplicate entries in the Books dataset\n",
    "print(\"Checking for duplicate entries in Books dataset:\")\n",
    "duplicates = books_df.groupBy(\"ISBN\").count().filter(col(\"count\") > 1)\n",
    "print(f\"Number of duplicate entries in Books dataset: {duplicates.count()}\")"
   ]
  },
  {
   "cell_type": "markdown",
   "metadata": {
    "application/vnd.databricks.v1+cell": {
     "cellMetadata": {},
     "inputWidgets": {},
     "nuid": "9b94663b-f65d-4b2a-85d8-9ba23cd3b537",
     "showTitle": false,
     "tableResultSettingsMap": {},
     "title": ""
    }
   },
   "source": [
    "## 5. Book Ratings Data Analysis"
   ]
  },
  {
   "cell_type": "code",
   "execution_count": 0,
   "metadata": {
    "application/vnd.databricks.v1+cell": {
     "cellMetadata": {
      "byteLimit": 2048000,
      "rowLimit": 10000
     },
     "inputWidgets": {},
     "nuid": "ce7dae55-041e-4cc9-928f-ad25fca01918",
     "showTitle": false,
     "tableResultSettingsMap": {},
     "title": ""
    }
   },
   "outputs": [
    {
     "name": "stdout",
     "output_type": "stream",
     "text": [
      "Ratings distribution:\n",
      "+-----------+------+\n",
      "|Book-Rating| count|\n",
      "+-----------+------+\n",
      "|          0|716109|\n",
      "|          1|  1770|\n",
      "|          2|  2759|\n",
      "|          3|  5996|\n",
      "|          4|  8904|\n",
      "|          5| 50974|\n",
      "|          6| 36924|\n",
      "|          7| 76457|\n",
      "|          8|103736|\n",
      "|          9| 67541|\n",
      "|         10| 78610|\n",
      "+-----------+------+\n",
      "\n",
      "Top rated books by average rating:\n",
      "+----------+--------------+\n",
      "|      ISBN|average_rating|\n",
      "+----------+--------------+\n",
      "|0690041535|          10.0|\n",
      "|067088782X|          10.0|\n",
      "|0425105156|          10.0|\n",
      "|0525938508|          10.0|\n",
      "|0945367198|          10.0|\n",
      "|0859051595|          10.0|\n",
      "|0394731271|          10.0|\n",
      "|1886411999|          10.0|\n",
      "|080482052X|          10.0|\n",
      "|9707100567|          10.0|\n",
      "+----------+--------------+\n",
      "only showing top 10 rows\n",
      "\n",
      "User rating activity:\n",
      "+-------+-----+\n",
      "|User-ID|count|\n",
      "+-------+-----+\n",
      "|  11676|13602|\n",
      "| 198711| 7550|\n",
      "| 153662| 6109|\n",
      "|  98391| 5891|\n",
      "|  35859| 5850|\n",
      "| 212898| 4785|\n",
      "| 278418| 4533|\n",
      "|  76352| 3367|\n",
      "| 110973| 3100|\n",
      "| 235105| 3067|\n",
      "+-------+-----+\n",
      "only showing top 10 rows\n",
      "\n"
     ]
    }
   ],
   "source": [
    "# Analyze the distribution of ratings\n",
    "print(\"Ratings distribution:\")\n",
    "ratings_df.groupBy(\"Book-Rating\").count().orderBy(\"Book-Rating\").show()\n",
    "\n",
    "# Identify the top-rated books by average rating\n",
    "print(\"Top rated books by average rating:\")\n",
    "ratings_df.groupBy(\"ISBN\").agg(mean(\"Book-Rating\").alias(\"average_rating\")).orderBy(desc(\"average_rating\")).show(10)\n",
    "\n",
    "# Examine user rating activity by counting ratings per user\n",
    "print(\"User rating activity:\")\n",
    "ratings_df.groupBy(\"User-ID\").count().orderBy(desc(\"count\")).show(10)"
   ]
  },
  {
   "cell_type": "markdown",
   "metadata": {
    "application/vnd.databricks.v1+cell": {
     "cellMetadata": {},
     "inputWidgets": {},
     "nuid": "0a65368c-4386-48b2-a096-c48927af764b",
     "showTitle": false,
     "tableResultSettingsMap": {},
     "title": ""
    }
   },
   "source": [
    "## 6. Users Data Analysis"
   ]
  },
  {
   "cell_type": "code",
   "execution_count": 0,
   "metadata": {
    "application/vnd.databricks.v1+cell": {
     "cellMetadata": {
      "byteLimit": 2048000,
      "rowLimit": 10000
     },
     "inputWidgets": {},
     "nuid": "0a2a91ea-48fc-41a1-a139-5ece7134cd01",
     "showTitle": false,
     "tableResultSettingsMap": {},
     "title": ""
    }
   },
   "outputs": [
    {
     "name": "stdout",
     "output_type": "stream",
     "text": [
      "User age distribution:\n",
      "+------------------+-----+\n",
      "|               Age|count|\n",
      "+------------------+-----+\n",
      "| \\\"\"alexandria\\\"\".|    1|\n",
      "|         \\\"\"n/a\\\"\"|    3|\n",
      "|      \\\"\"n/a\\\"\"\"\"\"|    1|\n",
      "|        andorra\"\"\"|    2|\n",
      "|      argentina\"\"\"|    5|\n",
      "|            athens|    1|\n",
      "|      australia\"\"\"|    1|\n",
      "|        austria\"\"\"|   13|\n",
      "|     bangladesh\"\"\"|    5|\n",
      "|        belgium\"\"\"|    4|\n",
      "|         brazil\"\"\"|    7|\n",
      "|          burma\"\"\"|    1|\n",
      "|     cape verde\"\"\"|    2|\n",
      "|          chile\"\"\"|    5|\n",
      "|          china\"\"\"|    2|\n",
      "|       colombia\"\"\"|    3|\n",
      "|     costa rica\"\"\"|    2|\n",
      "|  cote d`ivoire\"\"\"|    1|\n",
      "|        croatia\"\"\"|    5|\n",
      "| czech republic\"\"\"|    3|\n",
      "+------------------+-----+\n",
      "only showing top 20 rows\n",
      "\n",
      "User location distribution:\n",
      "+--------------------+-----+\n",
      "|            Location|count|\n",
      "+--------------------+-----+\n",
      "|london, england, ...| 2506|\n",
      "|toronto, ontario,...| 2250|\n",
      "|sydney, new south...| 1744|\n",
      "|melbourne, victor...| 1708|\n",
      "|portland, oregon,...| 1629|\n",
      "|chicago, illinois...| 1526|\n",
      "|seattle, washingt...| 1484|\n",
      "|new york, new yor...| 1411|\n",
      "|madrid, madrid, s...| 1400|\n",
      "|vancouver, britis...| 1359|\n",
      "+--------------------+-----+\n",
      "only showing top 10 rows\n",
      "\n",
      "Users with missing age:\n",
      "+-------+--------+---+\n",
      "|User-ID|Location|Age|\n",
      "+-------+--------+---+\n",
      "+-------+--------+---+\n",
      "\n"
     ]
    }
   ],
   "source": [
    "# Analyze the distribution of user ages\n",
    "print(\"User age distribution:\")\n",
    "users_df.groupBy(\"Age\").count().orderBy(\"Age\").show()\n",
    "\n",
    "# Analyze the geographic distribution of users by location\n",
    "print(\"User location distribution:\")\n",
    "users_df.groupBy(\"Location\").count().orderBy(desc(\"count\")).show(10)\n",
    "\n",
    "# Identify users with missing age values\n",
    "print(\"Users with missing age:\")\n",
    "users_df.filter(users_df.Age.isNull()).show()"
   ]
  },
  {
   "cell_type": "markdown",
   "metadata": {
    "application/vnd.databricks.v1+cell": {
     "cellMetadata": {},
     "inputWidgets": {},
     "nuid": "08ace7fd-dada-4fd7-b73c-263f9933d5f3",
     "showTitle": false,
     "tableResultSettingsMap": {},
     "title": ""
    }
   },
   "source": [
    "### 6.1 Age Data Cleaning and Type Conversion from String to Integer"
   ]
  },
  {
   "cell_type": "code",
   "execution_count": 0,
   "metadata": {
    "application/vnd.databricks.v1+cell": {
     "cellMetadata": {
      "byteLimit": 2048000,
      "rowLimit": 10000
     },
     "inputWidgets": {},
     "nuid": "792b927f-a500-417f-bc92-b8eafdfea81b",
     "showTitle": false,
     "tableResultSettingsMap": {},
     "title": ""
    }
   },
   "outputs": [
    {
     "name": "stdout",
     "output_type": "stream",
     "text": [
      "Cleaned and converted Age to integer in Users dataset\n"
     ]
    }
   ],
   "source": [
    "# Clean and convert Age in Users dataset to integer\n",
    "def clean_age(df):\n",
    "    # Filter out records with invalid age values (e.g., strings or ages outside a reasonable range)\n",
    "    df = df.filter((df[\"Age\"].cast(\"int\").isNotNull()) & \n",
    "                   (df[\"Age\"].cast(\"int\") >= 5) & \n",
    "                   (df[\"Age\"].cast(\"int\") <= 120))\n",
    "    # Convert the column to integer type\n",
    "    return df.withColumn(\"Age\", df[\"Age\"].cast(\"int\"))\n",
    "\n",
    "users_df = clean_age(users_df)\n",
    "print(\"Cleaned and converted Age to integer in Users dataset\")"
   ]
  },
  {
   "cell_type": "code",
   "execution_count": 0,
   "metadata": {
    "application/vnd.databricks.v1+cell": {
     "cellMetadata": {
      "byteLimit": 2048000,
      "rowLimit": 10000
     },
     "inputWidgets": {},
     "nuid": "609f0250-cc18-4425-a5e9-ce7284079782",
     "showTitle": false,
     "tableResultSettingsMap": {},
     "title": ""
    }
   },
   "outputs": [
    {
     "name": "stdout",
     "output_type": "stream",
     "text": [
      "User age distribution:\n",
      "+---+-----+\n",
      "|Age|count|\n",
      "+---+-----+\n",
      "|  5|   26|\n",
      "|  6|   18|\n",
      "|  7|   27|\n",
      "|  8|   54|\n",
      "|  9|   62|\n",
      "| 10|   84|\n",
      "| 11|  121|\n",
      "| 12|  192|\n",
      "| 13|  883|\n",
      "| 14| 1962|\n",
      "| 15| 2379|\n",
      "| 16| 2566|\n",
      "| 17| 3042|\n",
      "| 18| 3690|\n",
      "| 19| 3934|\n",
      "| 20| 4040|\n",
      "| 21| 4428|\n",
      "| 22| 4701|\n",
      "| 23| 5440|\n",
      "| 24| 5666|\n",
      "+---+-----+\n",
      "only showing top 20 rows\n",
      "\n"
     ]
    }
   ],
   "source": [
    "# Analyze the distribution of user ages\n",
    "print(\"User age distribution:\")\n",
    "users_df.groupBy(\"Age\").count().orderBy(\"Age\").show()"
   ]
  },
  {
   "cell_type": "markdown",
   "metadata": {
    "application/vnd.databricks.v1+cell": {
     "cellMetadata": {},
     "inputWidgets": {},
     "nuid": "30d9eb3b-cdf6-428e-a976-5cb596615c8f",
     "showTitle": false,
     "tableResultSettingsMap": {},
     "title": ""
    }
   },
   "source": [
    "## 7. Merge three Dataframes (Books, Ratings, Users)"
   ]
  },
  {
   "cell_type": "code",
   "execution_count": 0,
   "metadata": {
    "application/vnd.databricks.v1+cell": {
     "cellMetadata": {
      "byteLimit": 2048000,
      "rowLimit": 10000
     },
     "inputWidgets": {},
     "nuid": "73ab8cb1-3c5b-46fd-baf5-b290a725d3b4",
     "showTitle": false,
     "tableResultSettingsMap": {},
     "title": ""
    }
   },
   "outputs": [
    {
     "name": "stdout",
     "output_type": "stream",
     "text": [
      "Books dataset statistics and data types:\n",
      "\n",
      "Data types in Books dataset:\n",
      "[('ISBN', 'string'), ('Book-Title', 'string'), ('Book-Author', 'string'), ('Year-Of-Publication', 'int'), ('Publisher', 'string'), ('Image-URL-S', 'string'), ('Image-URL-M', 'string'), ('Image-URL-L', 'string')]\n",
      "\n",
      "Summary statistics for Books dataset:\n",
      "+-------+--------------------+--------------------+--------------------+-------------------+--------------------+--------------------+--------------------+--------------------+\n",
      "|summary|                ISBN|          Book-Title|         Book-Author|Year-Of-Publication|           Publisher|         Image-URL-S|         Image-URL-M|         Image-URL-L|\n",
      "+-------+--------------------+--------------------+--------------------+-------------------+--------------------+--------------------+--------------------+--------------------+\n",
      "|  count|              266667|              266667|              266667|             266667|              266667|              266667|              266667|              266667|\n",
      "|   mean|1.0301034814177269E9|            Infinity|                NULL| 1993.6925041343698|  25032.333333333332|                NULL|                NULL|              1984.0|\n",
      "| stddev|1.4697071331971295E9|                -NaN|                NULL|  8.148267049506192|   21676.03850645531|                NULL|                NULL|                NULL|\n",
      "|    min|          0000913154| A Light in the S...| 15th Illinois Vo...|               1806| Editions P. Terrail| 1865. (Collector...|       Lucius Barber|                1984|\n",
      "|    max|          B000234NC6|   Ã?Â?thique en toc|      Ã?Â?ric Holder|               2021|      Ã?Â¶bv&amp;hpt|http://images.ama...|http://images.ama...|http://images.ama...|\n",
      "+-------+--------------------+--------------------+--------------------+-------------------+--------------------+--------------------+--------------------+--------------------+\n",
      "\n",
      "\n",
      "Ratings dataset statistics and data types:\n",
      "\n",
      "Data types in Ratings dataset:\n",
      "[('User-ID', 'int'), ('ISBN', 'string'), ('Book-Rating', 'int')]\n",
      "\n",
      "Summary statistics for Ratings dataset:\n",
      "+-------+------------------+-----------+------------------+\n",
      "|summary|           User-ID|       ISBN|       Book-Rating|\n",
      "+-------+------------------+-----------+------------------+\n",
      "|  count|           1149780|    1149780|           1149780|\n",
      "|   mean|140386.39512602412|   Infinity|2.8669501991685364|\n",
      "| stddev| 80562.27771851212|       -NaN|3.8541838592016546|\n",
      "|    min|                 2| 0330299891|                 0|\n",
      "|    max|            278854|  Ô½crosoft|                10|\n",
      "+-------+------------------+-----------+------------------+\n",
      "\n",
      "\n",
      "Users dataset statistics and data types:\n",
      "\n",
      "Data types in Users dataset:\n",
      "[('User-ID', 'int'), ('Location', 'string'), ('Age', 'int')]\n",
      "\n",
      "Summary statistics for Users dataset:\n",
      "+-------+-----------------+--------------------+------------------+\n",
      "|summary|          User-ID|            Location|               Age|\n",
      "+-------+-----------------+--------------------+------------------+\n",
      "|  count|           277233|              277233|            277233|\n",
      "|   mean|139426.0610785873|                NULL| 34.52158653551345|\n",
      "| stddev|80491.24276961957|                NULL|10.808912605417639|\n",
      "|    min|                1|&#19978;&#28023;,...|                 5|\n",
      "|    max|           278858|  ýzmýr, n/a, turkey|               119|\n",
      "+-------+-----------------+--------------------+------------------+\n",
      "\n"
     ]
    }
   ],
   "source": [
    "# Display basic statistics and data types for the Books dataset\n",
    "print(\"Books dataset statistics and data types:\")\n",
    "print(\"\\nData types in Books dataset:\")\n",
    "print(books_df.dtypes)  # Display data types of columns\n",
    "print(\"\\nSummary statistics for Books dataset:\")\n",
    "books_df.describe().show()\n",
    "\n",
    "# Display basic statistics and data types for the Ratings dataset\n",
    "print(\"\\nRatings dataset statistics and data types:\")\n",
    "print(\"\\nData types in Ratings dataset:\")\n",
    "print(ratings_df.dtypes)  # Display data types of columns\n",
    "print(\"\\nSummary statistics for Ratings dataset:\")\n",
    "ratings_df.describe().show()\n",
    "\n",
    "# Display basic statistics and data types for the Users dataset\n",
    "print(\"\\nUsers dataset statistics and data types:\")\n",
    "print(\"\\nData types in Users dataset:\")\n",
    "print(users_df.dtypes)  # Display data types of columns\n",
    "print(\"\\nSummary statistics for Users dataset:\")\n",
    "users_df.describe().show()"
   ]
  },
  {
   "cell_type": "markdown",
   "metadata": {
    "application/vnd.databricks.v1+cell": {
     "cellMetadata": {},
     "inputWidgets": {},
     "nuid": "3202684f-c9e3-438e-8646-9e09b3c81cbc",
     "showTitle": false,
     "tableResultSettingsMap": {},
     "title": ""
    }
   },
   "source": [
    "###Performing Join operation to merge dataframes"
   ]
  },
  {
   "cell_type": "code",
   "execution_count": 0,
   "metadata": {
    "application/vnd.databricks.v1+cell": {
     "cellMetadata": {
      "byteLimit": 2048000,
      "rowLimit": 10000
     },
     "inputWidgets": {},
     "nuid": "ee620bb8-dfb5-4e39-8b25-db4b9d1d5c00",
     "showTitle": false,
     "tableResultSettingsMap": {},
     "title": ""
    }
   },
   "outputs": [
    {
     "name": "stdout",
     "output_type": "stream",
     "text": [
      "Joined Books and Ratings data:\n",
      "+----------+--------------------+-------------------+-------------------+--------------------+--------------------+--------------------+--------------------+-------+-----------+\n",
      "|      ISBN|          Book-Title|        Book-Author|Year-Of-Publication|           Publisher|         Image-URL-S|         Image-URL-M|         Image-URL-L|User-ID|Book-Rating|\n",
      "+----------+--------------------+-------------------+-------------------+--------------------+--------------------+--------------------+--------------------+-------+-----------+\n",
      "|0671002481|The First Wives C...|   Olivia Goldsmith|               1996|              Pocket|http://images.ama...|http://images.ama...|http://images.ama...| 271593|          0|\n",
      "|0842329129|Left Behind: A No...|         Tim Lahaye|               1996|Tyndale House Pub...|http://images.ama...|http://images.ama...|http://images.ama...| 274634|          0|\n",
      "|3423620005|Sofies Welt. Roma...|    Jostein Gaarder|               1999|                 Dtv|http://images.ama...|http://images.ama...|http://images.ama...| 199827|          0|\n",
      "|0174434642|Othello (3rd Series)|William Shakespeare|               1996|Thomas Nelson Pub...|http://images.ama...|http://images.ama...|http://images.ama...| 250367|          0|\n",
      "|0446606723|           Wild Seed|  Octavia E. Butler|               1999|              Aspect|http://images.ama...|http://images.ama...|http://images.ama...| 268434|          5|\n",
      "+----------+--------------------+-------------------+-------------------+--------------------+--------------------+--------------------+--------------------+-------+-----------+\n",
      "only showing top 5 rows\n",
      "\n",
      "Joined Users and Ratings data:\n",
      "+-------+----------+-----------+--------------------+---+\n",
      "|User-ID|      ISBN|Book-Rating|            Location|Age|\n",
      "+-------+----------+-----------+--------------------+---+\n",
      "| 276725|034545104X|          0|   tyler, texas, usa| 34|\n",
      "| 276726|0155061224|          5|seattle, washingt...| 34|\n",
      "| 276727|0446520802|          0|h, new south wale...| 16|\n",
      "| 276729|052165615X|          3|rijeka, n/a, croatia| 16|\n",
      "| 276729|0521795028|          6|rijeka, n/a, croatia| 16|\n",
      "+-------+----------+-----------+--------------------+---+\n",
      "only showing top 5 rows\n",
      "\n",
      "Complete data join:\n",
      "+-------+----------+--------------------+-------------------+-------------------+--------------------+--------------------+--------------------+--------------------+-----------+--------------------+---+\n",
      "|User-ID|      ISBN|          Book-Title|        Book-Author|Year-Of-Publication|           Publisher|         Image-URL-S|         Image-URL-M|         Image-URL-L|Book-Rating|            Location|Age|\n",
      "+-------+----------+--------------------+-------------------+-------------------+--------------------+--------------------+--------------------+--------------------+-----------+--------------------+---+\n",
      "| 271593|0671002481|The First Wives C...|   Olivia Goldsmith|               1996|              Pocket|http://images.ama...|http://images.ama...|http://images.ama...|          0|warren, pennsylva...| 34|\n",
      "| 274634|0842329129|Left Behind: A No...|         Tim Lahaye|               1996|Tyndale House Pub...|http://images.ama...|http://images.ama...|http://images.ama...|          0|wahiawa, hawaii, usa| 33|\n",
      "| 199827|3423620005|Sofies Welt. Roma...|    Jostein Gaarder|               1999|                 Dtv|http://images.ama...|http://images.ama...|http://images.ama...|          0|bochum, nordrhein...| 34|\n",
      "| 250367|0174434642|Othello (3rd Series)|William Shakespeare|               1996|Thomas Nelson Pub...|http://images.ama...|http://images.ama...|http://images.ama...|          0|denver, colorado,...| 34|\n",
      "| 268434|0446606723|           Wild Seed|  Octavia E. Butler|               1999|              Aspect|http://images.ama...|http://images.ama...|http://images.ama...|          5|raleigh, north ca...| 34|\n",
      "+-------+----------+--------------------+-------------------+-------------------+--------------------+--------------------+--------------------+--------------------+-----------+--------------------+---+\n",
      "only showing top 5 rows\n",
      "\n"
     ]
    }
   ],
   "source": [
    "# Join Books and Ratings data based on ISBN\n",
    "book_ratings_df = books_df.join(ratings_df, on=\"ISBN\", how=\"inner\")\n",
    "print(\"Joined Books and Ratings data:\")\n",
    "book_ratings_df.show(5)\n",
    "\n",
    "# Join Users and Ratings data based on User-ID\n",
    "user_ratings_df = ratings_df.join(users_df, on=\"User-ID\", how=\"inner\")\n",
    "print(\"Joined Users and Ratings data:\")\n",
    "user_ratings_df.show(5)\n",
    "\n",
    "# Combine all three datasets using ISBN and User-ID\n",
    "complete_df = book_ratings_df.join(users_df, on=\"User-ID\", how=\"inner\")\n",
    "print(\"Complete data join:\")\n",
    "complete_df.show(5)"
   ]
  },
  {
   "cell_type": "markdown",
   "metadata": {
    "application/vnd.databricks.v1+cell": {
     "cellMetadata": {},
     "inputWidgets": {},
     "nuid": "c6f1ab84-b141-45f8-adf8-fe8edce1d52e",
     "showTitle": false,
     "tableResultSettingsMap": {},
     "title": ""
    }
   },
   "source": [
    "## 8. Complete Dataset Analysis"
   ]
  },
  {
   "cell_type": "code",
   "execution_count": 0,
   "metadata": {
    "application/vnd.databricks.v1+cell": {
     "cellMetadata": {
      "byteLimit": 2048000,
      "rowLimit": 10000
     },
     "inputWidgets": {},
     "nuid": "d0bd3444-d240-4231-83dc-c1d19a88b23f",
     "showTitle": false,
     "tableResultSettingsMap": {},
     "title": ""
    }
   },
   "outputs": [
    {
     "name": "stdout",
     "output_type": "stream",
     "text": [
      "Most popular books based on total number of ratings received:\n",
      "+----------+--------------------+-----+\n",
      "|      ISBN|          Book-Title|count|\n",
      "+----------+--------------------+-----+\n",
      "|0971880107|         Wild Animus| 2496|\n",
      "|0316666343|The Lovely Bones:...| 1290|\n",
      "|0385504209|   The Da Vinci Code|  881|\n",
      "|0060928336|Divine Secrets of...|  730|\n",
      "|0312195516|The Red Tent (Bes...|  723|\n",
      "|044023722X|     A Painted House|  645|\n",
      "|0142001740|The Secret Life o...|  613|\n",
      "|067976402X|Snow Falling on C...|  611|\n",
      "|0671027360| Angels &amp; Demons|  583|\n",
      "|0446672211|Where the Heart I...|  583|\n",
      "+----------+--------------------+-----+\n",
      "only showing top 10 rows\n",
      "\n",
      "Most active users based on number of books rated:\n",
      "+-------+-----+\n",
      "|User-ID|count|\n",
      "+-------+-----+\n",
      "|  11676|10915|\n",
      "| 198711| 6356|\n",
      "| 153662| 5789|\n",
      "|  98391| 5776|\n",
      "|  35859| 5615|\n",
      "| 212898| 4268|\n",
      "| 278418| 3956|\n",
      "|  76352| 3310|\n",
      "| 110973| 2949|\n",
      "| 235105| 2920|\n",
      "+-------+-----+\n",
      "only showing top 10 rows\n",
      "\n",
      "Book ratings by user age:\n",
      "+---+------------------+\n",
      "|Age|        avg_rating|\n",
      "+---+------------------+\n",
      "|  5| 4.862745098039215|\n",
      "|  6| 5.428571428571429|\n",
      "|  7|3.5106382978723403|\n",
      "|  8|3.8943396226415095|\n",
      "|  9|1.1348814229249011|\n",
      "| 10|3.6266666666666665|\n",
      "| 11|2.8408644400785854|\n",
      "| 12|3.8344640434192674|\n",
      "| 13| 3.416256157635468|\n",
      "| 14| 3.582306477093207|\n",
      "| 15| 3.802686280780301|\n",
      "| 16| 4.410043130006161|\n",
      "| 17|3.9330391404451266|\n",
      "| 18|3.2689222183467037|\n",
      "| 19|3.8219976680917216|\n",
      "| 20|3.5545440276251767|\n",
      "| 21| 2.605511093101003|\n",
      "| 22|  3.03441876159946|\n",
      "| 23|2.7225113858165257|\n",
      "| 24|2.7318769163381518|\n",
      "+---+------------------+\n",
      "only showing top 20 rows\n",
      "\n",
      "Book ratings by user location:\n",
      "+--------------------+----------+\n",
      "|            Location|avg_rating|\n",
      "+--------------------+----------+\n",
      "|breaux bridge, lo...|      10.0|\n",
      "|dublin, georgia, usa|      10.0|\n",
      "|auckland, na, new...|      10.0|\n",
      "|wels, oberösterre...|      10.0|\n",
      "|paderno dugnano, ...|      10.0|\n",
      "|14971 deception r...|      10.0|\n",
      "|   la verne, ca, usa|      10.0|\n",
      "|maimi lakes, flor...|      10.0|\n",
      "|  br, louisiana, usa|      10.0|\n",
      "|island lake il., ...|      10.0|\n",
      "+--------------------+----------+\n",
      "only showing top 10 rows\n",
      "\n"
     ]
    }
   ],
   "source": [
    "# Analyze the most popular books based on total number of ratings received\n",
    "print(\"Most popular books based on total number of ratings received:\")\n",
    "complete_df.groupBy(\"ISBN\", \"Book-Title\").count().orderBy(desc(\"count\")).show(10)\n",
    "\n",
    "# Examine the most active users based on the number of books rated\n",
    "print(\"Most active users based on number of books rated:\")\n",
    "complete_df.groupBy(\"User-ID\").count().orderBy(desc(\"count\")).show(10)\n",
    "\n",
    "# Analyze book ratings by user age and location\n",
    "print(\"Book ratings by user age:\")\n",
    "complete_df.groupBy(\"Age\").agg(mean(\"Book-Rating\").alias(\"avg_rating\")).orderBy(\"Age\").show()\n",
    "\n",
    "print(\"Book ratings by user location:\")\n",
    "complete_df.groupBy(\"Location\").agg(mean(\"Book-Rating\").alias(\"avg_rating\")).orderBy(desc(\"avg_rating\")).show(10)"
   ]
  },
  {
   "cell_type": "markdown",
   "metadata": {
    "application/vnd.databricks.v1+cell": {
     "cellMetadata": {},
     "inputWidgets": {},
     "nuid": "73d9dab8-eafb-42ca-b0b3-39c082004da3",
     "showTitle": false,
     "tableResultSettingsMap": {},
     "title": ""
    }
   },
   "source": [
    "## 9. Identify Outliers"
   ]
  },
  {
   "cell_type": "code",
   "execution_count": 0,
   "metadata": {
    "application/vnd.databricks.v1+cell": {
     "cellMetadata": {
      "byteLimit": 2048000,
      "rowLimit": 10000
     },
     "inputWidgets": {},
     "nuid": "4d919fc3-9890-4a1f-8be3-513c0aec84e3",
     "showTitle": false,
     "tableResultSettingsMap": {},
     "title": ""
    }
   },
   "outputs": [
    {
     "name": "stdout",
     "output_type": "stream",
     "text": [
      "Outliers in User Age:\n",
      "+-------+------------------+\n",
      "|summary|               Age|\n",
      "+-------+------------------+\n",
      "|  count|           1014122|\n",
      "|   mean| 36.38844931872102|\n",
      "| stddev|10.875290030533929|\n",
      "|    min|                 5|\n",
      "|    25%|                31|\n",
      "|    50%|                34|\n",
      "|    75%|                41|\n",
      "|    max|               118|\n",
      "+-------+------------------+\n",
      "\n",
      "Outliers in Book Rating:\n",
      "+-------+------------------+\n",
      "|summary|       Book-Rating|\n",
      "+-------+------------------+\n",
      "|  count|           1014122|\n",
      "|   mean|  2.83427634939386|\n",
      "| stddev|3.8530030679781424|\n",
      "|    min|                 0|\n",
      "|    25%|                 0|\n",
      "|    50%|                 0|\n",
      "|    75%|                 7|\n",
      "|    max|                10|\n",
      "+-------+------------------+\n",
      "\n"
     ]
    }
   ],
   "source": [
    "# Identify outliers in User Age\n",
    "print(\"Outliers in User Age:\")\n",
    "complete_df.select(\"Age\").summary().show()\n",
    "\n",
    "# Identify outliers in Book Rating\n",
    "print(\"Outliers in Book Rating:\")\n",
    "complete_df.select(\"Book-Rating\").summary().show()"
   ]
  },
  {
   "cell_type": "markdown",
   "metadata": {
    "application/vnd.databricks.v1+cell": {
     "cellMetadata": {},
     "inputWidgets": {},
     "nuid": "e67e3cdf-cb72-44df-b457-52a73dcbb2a5",
     "showTitle": false,
     "tableResultSettingsMap": {},
     "title": ""
    }
   },
   "source": [
    "## 9. Correlations"
   ]
  },
  {
   "cell_type": "code",
   "execution_count": 0,
   "metadata": {
    "application/vnd.databricks.v1+cell": {
     "cellMetadata": {
      "byteLimit": 2048000,
      "rowLimit": 10000
     },
     "inputWidgets": {},
     "nuid": "be96d405-13ed-404f-aebf-b4f47f7f91b7",
     "showTitle": false,
     "tableResultSettingsMap": {},
     "title": ""
    }
   },
   "outputs": [
    {
     "name": "stdout",
     "output_type": "stream",
     "text": [
      "Correlation between age and book ratings:\n",
      "Correlation: -0.022934210623970143\n"
     ]
    }
   ],
   "source": [
    "# Compute correlation between age and book ratings\n",
    "print(\"Correlation between age and book ratings:\")\n",
    "correlation = complete_df.select(F.corr(\"Age\", \"Book-Rating\")).collect()[0][0]\n",
    "print(f\"Correlation: {correlation}\")"
   ]
  },
  {
   "cell_type": "markdown",
   "metadata": {
    "application/vnd.databricks.v1+cell": {
     "cellMetadata": {},
     "inputWidgets": {},
     "nuid": "d1dfd213-e877-40f5-863f-021372744ad3",
     "showTitle": false,
     "tableResultSettingsMap": {},
     "title": ""
    }
   },
   "source": [
    "## 10. User Demographics Analysis"
   ]
  },
  {
   "cell_type": "code",
   "execution_count": 0,
   "metadata": {
    "application/vnd.databricks.v1+cell": {
     "cellMetadata": {
      "byteLimit": 2048000,
      "rowLimit": 10000
     },
     "inputWidgets": {},
     "nuid": "d62773a4-83c2-4a0a-84b2-9b81c482fc31",
     "showTitle": false,
     "tableResultSettingsMap": {},
     "title": ""
    }
   },
   "outputs": [
    {
     "name": "stdout",
     "output_type": "stream",
     "text": [
      "Book ratings by age groups:\n",
      "+---------+------------------+\n",
      "|age_group|        avg_rating|\n",
      "+---------+------------------+\n",
      "|        0|1.9832285115303983|\n",
      "|       10|3.6899890976720324|\n",
      "|       20|  2.84975523495288|\n",
      "|       30|  2.82758246043587|\n",
      "|       40|2.7265694792776456|\n",
      "|       50|2.8735996526270084|\n",
      "|       60| 2.349170865169664|\n",
      "|       70| 4.473752012882447|\n",
      "|       80|3.0348675034867503|\n",
      "|       90|2.9692307692307693|\n",
      "|      100|2.5444444444444443|\n",
      "|      110|1.3027806385169929|\n",
      "+---------+------------------+\n",
      "\n"
     ]
    }
   ],
   "source": [
    "# Compare book ratings given by different age groups\n",
    "print(\"Book ratings by age groups:\")\n",
    "\n",
    "# Group ages by decades using floor division\n",
    "age_groups = complete_df.withColumn(\"age_group\", F.floor(col(\"Age\") / 10) * 10)\n",
    "\n",
    "# Calculate the average rating for each age group\n",
    "average_ratings_by_age_group = age_groups.groupBy(\"age_group\").agg(F.mean(\"Book-Rating\").alias(\"avg_rating\")).orderBy(\"age_group\")\n",
    "\n",
    "# Display the results\n",
    "average_ratings_by_age_group.show()\n",
    "\n",
    "# Insight:\n",
    "# Grouping user age into categories (e.g., decades) allows for more meaningful comparisons of book ratings.\n",
    "# This can reveal trends or preferences across different age groups.\n",
    "# Consider using other age groupings (e.g., age bins) depending on the data distribution and specific analysis goals."
   ]
  },
  {
   "cell_type": "markdown",
   "metadata": {
    "application/vnd.databricks.v1+cell": {
     "cellMetadata": {},
     "inputWidgets": {},
     "nuid": "dec3492c-81a3-4714-b32f-f8ccb943cb9c",
     "showTitle": false,
     "tableResultSettingsMap": {},
     "title": ""
    }
   },
   "source": [
    "## 11. Publisher Analysis"
   ]
  },
  {
   "cell_type": "code",
   "execution_count": 0,
   "metadata": {
    "application/vnd.databricks.v1+cell": {
     "cellMetadata": {
      "byteLimit": 2048000,
      "rowLimit": 10000
     },
     "inputWidgets": {},
     "nuid": "36848d0c-a507-4148-91f9-14a6db4bfffd",
     "showTitle": false,
     "tableResultSettingsMap": {},
     "title": ""
    }
   },
   "outputs": [
    {
     "name": "stdout",
     "output_type": "stream",
     "text": [
      "Publishers with highest average book ratings:\n",
      "+--------------------+----------+\n",
      "|           Publisher|avg_rating|\n",
      "+--------------------+----------+\n",
      "|    Arden Publishers|      10.0|\n",
      "|         Veritas Pub|      10.0|\n",
      "|           D. Spears|      10.0|\n",
      "|Macdonald and Jane's|      10.0|\n",
      "|Scribes Valley Pu...|      10.0|\n",
      "|         Hermetic Pr|      10.0|\n",
      "|    Providence Press|      10.0|\n",
      "|Unity School of C...|      10.0|\n",
      "|        Bourget Bros|      10.0|\n",
      "|  Wallbuilders Press|      10.0|\n",
      "|           Jugglebug|      10.0|\n",
      "|           Sattre Pr|      10.0|\n",
      "|         Sopris West|      10.0|\n",
      "|         Paper Tiger|      10.0|\n",
      "|Colour Energy Cor...|      10.0|\n",
      "|          Veritas Pr|      10.0|\n",
      "|Helwig Industries...|      10.0|\n",
      "|Malice Aforethoug...|      10.0|\n",
      "| Indigo Publications|      10.0|\n",
      "|          I.P.A.C.S.|      10.0|\n",
      "+--------------------+----------+\n",
      "only showing top 20 rows\n",
      "\n"
     ]
    }
   ],
   "source": [
    "# Explore which publishers receive the highest average book ratings\n",
    "print(\"Publishers with highest average book ratings:\")\n",
    "publisher_ratings = complete_df.groupBy(\"Publisher\").agg(mean(\"Book-Rating\").alias(\"avg_rating\"))\n",
    "top_publishers = publisher_ratings.orderBy(desc(\"avg_rating\")).show(20)"
   ]
  },
  {
   "cell_type": "markdown",
   "metadata": {
    "application/vnd.databricks.v1+cell": {
     "cellMetadata": {},
     "inputWidgets": {},
     "nuid": "cf8220a8-d33b-4786-b0c0-bc2d63163667",
     "showTitle": false,
     "tableResultSettingsMap": {},
     "title": ""
    }
   },
   "source": [
    "## 12. Books with Highest and Lowest Ratings"
   ]
  },
  {
   "cell_type": "code",
   "execution_count": 0,
   "metadata": {
    "application/vnd.databricks.v1+cell": {
     "cellMetadata": {
      "byteLimit": 2048000,
      "rowLimit": 10000
     },
     "inputWidgets": {},
     "nuid": "3d2ae106-aa0d-4bc8-8ec1-4b44b2becc83",
     "showTitle": false,
     "tableResultSettingsMap": {},
     "title": ""
    }
   },
   "outputs": [
    {
     "name": "stdout",
     "output_type": "stream",
     "text": [
      "Books with highest average ratings:\n",
      "+----------+--------------------+----------+\n",
      "|      ISBN|          Book-Title|avg_rating|\n",
      "+----------+--------------------+----------+\n",
      "|3491420091| Mein Esel Benjamin.|      10.0|\n",
      "|0785263950|In, But Not Of : ...|      10.0|\n",
      "|0192839071|The Meditations o...|      10.0|\n",
      "|3551580561|Fanny und Pepsi. ...|      10.0|\n",
      "|1587361175| Murder in Hollywood|      10.0|\n",
      "|006440546X|Betsy and Joe (Be...|      10.0|\n",
      "|0439420806|The Coiled Viper ...|      10.0|\n",
      "|0848716930|Christmas with Co...|      10.0|\n",
      "|0783889542|Galileo's Daughte...|      10.0|\n",
      "|0965834522|           Hellspark|      10.0|\n",
      "+----------+--------------------+----------+\n",
      "only showing top 10 rows\n",
      "\n",
      "Books with lowest average ratings:\n",
      "+----------+--------------------+----------+\n",
      "|      ISBN|          Book-Title|avg_rating|\n",
      "+----------+--------------------+----------+\n",
      "|0373026234|Modern Girl (Harl...|       0.0|\n",
      "|0441005470|         Mockingbird|       0.0|\n",
      "|3499134004|     Rabbit in Ruhe.|       0.0|\n",
      "|0749317256|    Brighton Rock CB|       0.0|\n",
      "|0307101622|Baby's First Book...|       0.0|\n",
      "|0060187247|Carbohydrate-Addi...|       0.0|\n",
      "|0373032765|Stubborn As A Mul...|       0.0|\n",
      "|0373073364|Dream Chasers (Si...|       0.0|\n",
      "|0307021718|Let's go shopping...|       0.0|\n",
      "|014037423X|A Whole New Ball ...|       0.0|\n",
      "+----------+--------------------+----------+\n",
      "only showing top 10 rows\n",
      "\n"
     ]
    }
   ],
   "source": [
    "# Identify books with the highest average ratings\n",
    "print(\"Books with highest average ratings:\")\n",
    "complete_df.groupBy(\"ISBN\", \"Book-Title\").agg(mean(\"Book-Rating\").alias(\"avg_rating\")).orderBy(desc(\"avg_rating\")).show(10)\n",
    "\n",
    "# Identify books with the lowest average ratings\n",
    "print(\"Books with lowest average ratings:\")\n",
    "complete_df.groupBy(\"ISBN\", \"Book-Title\").agg(mean(\"Book-Rating\").alias(\"avg_rating\")).orderBy(\"avg_rating\").show(10)"
   ]
  },
  {
   "cell_type": "markdown",
   "metadata": {
    "application/vnd.databricks.v1+cell": {
     "cellMetadata": {},
     "inputWidgets": {},
     "nuid": "09de92f0-7469-45f3-acb8-53a9b786ec9d",
     "showTitle": false,
     "tableResultSettingsMap": {},
     "title": ""
    }
   },
   "source": [
    "## 13. Unique Values"
   ]
  },
  {
   "cell_type": "code",
   "execution_count": 0,
   "metadata": {
    "application/vnd.databricks.v1+cell": {
     "cellMetadata": {
      "byteLimit": 2048000,
      "rowLimit": 10000
     },
     "inputWidgets": {},
     "nuid": "e223ef37-81f0-46b9-9d5a-b35d4d849167",
     "showTitle": false,
     "tableResultSettingsMap": {},
     "title": ""
    }
   },
   "outputs": [
    {
     "name": "stdout",
     "output_type": "stream",
     "text": [
      "Unique ISBN values:\n",
      "266667\n",
      "Unique User-ID values:\n",
      "277233\n"
     ]
    }
   ],
   "source": [
    "# Calculate the number of unique ISBN values in the Books dataset\n",
    "print(\"Unique ISBN values:\")\n",
    "print(books_df.select(\"ISBN\").distinct().count())\n",
    "\n",
    "# Calculate the number of unique User-ID values in the Users dataset\n",
    "print(\"Unique User-ID values:\")\n",
    "print(users_df.select(\"User-ID\").distinct().count())"
   ]
  },
  {
   "cell_type": "markdown",
   "metadata": {
    "application/vnd.databricks.v1+cell": {
     "cellMetadata": {},
     "inputWidgets": {},
     "nuid": "6517f63e-5414-4902-84c3-bc1aa37ea42f",
     "showTitle": false,
     "tableResultSettingsMap": {},
     "title": ""
    }
   },
   "source": [
    "## 14. Frequent Book-User Pairs"
   ]
  },
  {
   "cell_type": "code",
   "execution_count": 0,
   "metadata": {
    "application/vnd.databricks.v1+cell": {
     "cellMetadata": {
      "byteLimit": 2048000,
      "rowLimit": 10000
     },
     "inputWidgets": {},
     "nuid": "f33f7652-af8f-4ea1-9350-05c6606f792a",
     "showTitle": false,
     "tableResultSettingsMap": {},
     "title": ""
    }
   },
   "outputs": [
    {
     "name": "stdout",
     "output_type": "stream",
     "text": [
      "Frequent book-user pairs:\n",
      "+-------+----------+-----+\n",
      "|User-ID|      ISBN|count|\n",
      "+-------+----------+-----+\n",
      "| 277375|3548603203|    1|\n",
      "| 276936|0749317256|    1|\n",
      "| 276733|2080674722|    1|\n",
      "| 276798|3548603203|    1|\n",
      "| 276964|0515131520|    1|\n",
      "| 276798|3499134004|    1|\n",
      "| 277427|0425087859|    1|\n",
      "| 277378|0767906373|    1|\n",
      "| 277157|0441005470|    1|\n",
      "| 276904|0738205737|    1|\n",
      "+-------+----------+-----+\n",
      "only showing top 10 rows\n",
      "\n"
     ]
    }
   ],
   "source": [
    "# Analyze which books and users appear together most frequently\n",
    "print(\"Frequent book-user pairs:\")\n",
    "# Group by 'User-ID' and 'ISBN' to find the frequency of each book-user pair\n",
    "frequent_pairs = complete_df.groupBy(\"User-ID\", \"ISBN\").count()\n",
    "\n",
    "# Order the pairs in ascending order of count\n",
    "frequent_pairs.orderBy(\"count\").show(10)"
   ]
  },
  {
   "cell_type": "markdown",
   "metadata": {
    "application/vnd.databricks.v1+cell": {
     "cellMetadata": {},
     "inputWidgets": {},
     "nuid": "342fffe9-ddbe-472a-bf70-ba71e1247f38",
     "showTitle": false,
     "tableResultSettingsMap": {},
     "title": ""
    }
   },
   "source": [
    "## 15. Recommendations"
   ]
  },
  {
   "cell_type": "markdown",
   "metadata": {
    "application/vnd.databricks.v1+cell": {
     "cellMetadata": {},
     "inputWidgets": {},
     "nuid": "bcc354c1-4790-4bd9-8325-9ab4072c281c",
     "showTitle": false,
     "tableResultSettingsMap": {},
     "title": ""
    }
   },
   "source": [
    "### 15.1 Based on user age and book ratings:"
   ]
  },
  {
   "cell_type": "code",
   "execution_count": 0,
   "metadata": {
    "application/vnd.databricks.v1+cell": {
     "cellMetadata": {
      "byteLimit": 2048000,
      "rowLimit": 10000
     },
     "inputWidgets": {},
     "nuid": "19e1570a-01c4-46c1-963d-60baa0e0501e",
     "showTitle": false,
     "tableResultSettingsMap": {},
     "title": ""
    }
   },
   "outputs": [
    {
     "data": {
      "text/plain": [
       "Enter the user ID for recommendations:  123"
      ]
     },
     "metadata": {},
     "output_type": "display_data"
    },
    {
     "name": "stdout",
     "output_type": "stream",
     "text": [
      "Top recommendation candidates for User ID 123 (Age Group: 20s):\n",
      "+----------+--------------------+----------+\n",
      "|      ISBN|          Book-Title|avg_rating|\n",
      "+----------+--------------------+----------+\n",
      "|1556615728|The Moon by Night...|      10.0|\n",
      "|0094770506|Darwin in 90 Minu...|      10.0|\n",
      "|0848716280|Good things: The ...|      10.0|\n",
      "|0192839071|The Meditations o...|      10.0|\n",
      "|0140367489|The Lost World (P...|      10.0|\n",
      "|0140437509|Three Men in a Bo...|      10.0|\n",
      "|0471963518|Understanding Fos...|      10.0|\n",
      "|0553298097|       A Time to Die|      10.0|\n",
      "|0452275334|Life on the Color...|      10.0|\n",
      "|0060962348|Courage to Heal: ...|      10.0|\n",
      "+----------+--------------------+----------+\n",
      "only showing top 10 rows\n",
      "\n"
     ]
    }
   ],
   "source": [
    "# Ask for user ID input to recommend books\n",
    "user_id = int(input(\"Enter the user ID for recommendations: \"))\n",
    "\n",
    "# Get the user's age from the Users dataset\n",
    "user_age_row = users_df.filter(users_df[\"User-ID\"] == user_id).select(\"Age\").collect()\n",
    "\n",
    "# Check if the user was found in the dataset\n",
    "if user_age_row:\n",
    "    user_age = user_age_row[0][\"Age\"]\n",
    "\n",
    "    # Create an age_group column by grouping ages by decades\n",
    "    age_group = (int(user_age) // 10) * 10\n",
    "\n",
    "    # Filter the complete dataset for the specified age group\n",
    "    age_group_data = complete_df.filter((complete_df[\"Age\"] >= age_group) & (complete_df[\"Age\"] < age_group + 10))\n",
    "\n",
    "    # Group by ISBN and Book-Title and calculate the average book rating for the user's age group\n",
    "    recommendation_candidates = age_group_data.groupBy(\"ISBN\", \"Book-Title\").agg(mean(\"Book-Rating\").alias(\"avg_rating\")).orderBy(desc(\"avg_rating\"))\n",
    "\n",
    "    # Display the top recommendation candidates for the user's age group\n",
    "    print(f\"Top recommendation candidates for User ID {user_id} (Age Group: {age_group}s):\")\n",
    "    recommendation_candidates.show(10)\n",
    "\n",
    "\n",
    "else:\n",
    "    print(f\"User ID {user_id} not found or invalid age.\")"
   ]
  },
  {
   "cell_type": "markdown",
   "metadata": {
    "application/vnd.databricks.v1+cell": {
     "cellMetadata": {},
     "inputWidgets": {},
     "nuid": "61e8f23e-4269-4c51-a6ba-f40b133a1e81",
     "showTitle": false,
     "tableResultSettingsMap": {},
     "title": ""
    }
   },
   "source": [
    "### 15.2  Trending and Popular Books:"
   ]
  },
  {
   "cell_type": "code",
   "execution_count": 0,
   "metadata": {
    "application/vnd.databricks.v1+cell": {
     "cellMetadata": {
      "byteLimit": 2048000,
      "rowLimit": 10000
     },
     "inputWidgets": {},
     "nuid": "437d21f2-e57d-4327-92f5-d2e9db620473",
     "showTitle": false,
     "tableResultSettingsMap": {},
     "title": ""
    }
   },
   "outputs": [
    {
     "name": "stdout",
     "output_type": "stream",
     "text": [
      "Top trending books:\n",
      "+----------+--------------------+-----+----+\n",
      "|      ISBN|          Book-Title|count|rank|\n",
      "+----------+--------------------+-----+----+\n",
      "|0971880107|         Wild Animus| 2496|   1|\n",
      "|0316666343|The Lovely Bones:...| 1290|   2|\n",
      "|0385504209|   The Da Vinci Code|  881|   3|\n",
      "|0060928336|Divine Secrets of...|  730|   4|\n",
      "|0312195516|The Red Tent (Bes...|  723|   5|\n",
      "|044023722X|     A Painted House|  645|   6|\n",
      "|0142001740|The Secret Life o...|  613|   7|\n",
      "|067976402X|Snow Falling on C...|  611|   8|\n",
      "|0671027360| Angels &amp; Demons|  583|   9|\n",
      "|0446672211|Where the Heart I...|  583|  10|\n",
      "+----------+--------------------+-----+----+\n",
      "\n"
     ]
    }
   ],
   "source": [
    "\n",
    "# Find books with the most recent increase in popularity\n",
    "from pyspark.sql.window import Window\n",
    "trending_books = complete_df.groupBy(\"ISBN\", \"Book-Title\").agg(count(\"User-ID\").alias(\"count\"))\n",
    "trending_books = trending_books.withColumn(\"rank\", F.row_number().over(Window.orderBy(desc(\"count\"))))\n",
    "print(\"Top trending books:\")\n",
    "trending_books.filter(trending_books[\"rank\"] <= 10).show()"
   ]
  },
  {
   "cell_type": "markdown",
   "metadata": {
    "application/vnd.databricks.v1+cell": {
     "cellMetadata": {},
     "inputWidgets": {},
     "nuid": "d5d64317-5105-4399-b1b8-699317ee12fc",
     "showTitle": false,
     "tableResultSettingsMap": {},
     "title": ""
    }
   },
   "source": [
    "## 16 Recommendation System"
   ]
  },
  {
   "cell_type": "code",
   "execution_count": 0,
   "metadata": {
    "application/vnd.databricks.v1+cell": {
     "cellMetadata": {
      "byteLimit": 2048000,
      "rowLimit": 10000
     },
     "inputWidgets": {},
     "nuid": "54c57978-77ff-4348-956a-08ca12636bda",
     "showTitle": false,
     "tableResultSettingsMap": {},
     "title": ""
    }
   },
   "outputs": [],
   "source": [
    "from pyspark.ml.feature import StringIndexer\n",
    "from pyspark.ml.recommendation import ALS\n",
    "from pyspark.ml.evaluation import RegressionEvaluator\n",
    "\n",
    "# Convert ISBN column from string to numeric values\n",
    "indexer = StringIndexer(inputCol=\"ISBN\", outputCol=\"ISBNIndex\")\n",
    "indexed_df = indexer.fit(complete_df).transform(complete_df)\n",
    "\n",
    "# Prepare the data\n",
    "indexed_df = indexed_df.filter(indexed_df[\"Book-Rating\"] > 0)  # Filter out 0 ratings\n",
    "(training_data, test_data) = indexed_df.randomSplit([0.8, 0.2])  # Split data into training and test sets\n",
    "\n",
    "# Initialize ALS model\n",
    "als = ALS(\n",
    "    maxIter=2,  # Number of iterations to run the algorithm\n",
    "    regParam=0.1,  # Regularization parameter to avoid overfitting\n",
    "    userCol=\"User-ID\",  # Column representing users\n",
    "    itemCol=\"ISBNIndex\",  # Column representing items (books) after indexing\n",
    "    ratingCol=\"Book-Rating\",  # Column representing ratings\n",
    "    coldStartStrategy=\"drop\"  # Strategy to handle cold start (unknown users/items)\n",
    ")"
   ]
  },
  {
   "cell_type": "markdown",
   "metadata": {
    "application/vnd.databricks.v1+cell": {
     "cellMetadata": {},
     "inputWidgets": {},
     "nuid": "882c00b3-e78c-4825-b86d-644ebdb6a03c",
     "showTitle": false,
     "tableResultSettingsMap": {},
     "title": ""
    }
   },
   "source": [
    "### Train the model"
   ]
  },
  {
   "cell_type": "code",
   "execution_count": 0,
   "metadata": {
    "application/vnd.databricks.v1+cell": {
     "cellMetadata": {
      "byteLimit": 2048000,
      "rowLimit": 10000
     },
     "inputWidgets": {},
     "nuid": "13a41e8f-a193-472d-95c3-5a09cf478a8a",
     "showTitle": false,
     "tableResultSettingsMap": {},
     "title": ""
    }
   },
   "outputs": [
    {
     "name": "stdout",
     "output_type": "stream",
     "text": [
      "Root Mean Square Error (RMSE): 8.303067811912012\n",
      "Top 10 book recommendations for each user:\n",
      "+-------+--------------------+\n",
      "|User-ID|     recommendations|\n",
      "+-------+--------------------+\n",
      "|     12|[{23862, 12.20782...|\n",
      "|     16|[{35448, 22.45512...|\n",
      "|     26|[{5941, 17.39451}...|\n",
      "|     44|[{76550, 9.043071...|\n",
      "|     53|[{14018, 12.11555...|\n",
      "+-------+--------------------+\n",
      "only showing top 5 rows\n",
      "\n"
     ]
    }
   ],
   "source": [
    "# Train the ALS model\n",
    "model = als.fit(training_data)\n",
    "\n",
    "# Evaluate the model using RMSE\n",
    "evaluator = RegressionEvaluator(\n",
    "    metricName=\"rmse\",\n",
    "    labelCol=\"Book-Rating\",\n",
    "    predictionCol=\"prediction\"\n",
    ")\n",
    "predictions = model.transform(test_data)\n",
    "rmse = evaluator.evaluate(predictions)\n",
    "print(f\"Root Mean Square Error (RMSE): {rmse}\")\n",
    "\n",
    "# Make book recommendations for each user\n",
    "print(\"Top 10 book recommendations for each user:\")\n",
    "user_recommendations = model.recommendForAllUsers(10)\n",
    "user_recommendations.show(5)"
   ]
  },
  {
   "cell_type": "markdown",
   "metadata": {
    "application/vnd.databricks.v1+cell": {
     "cellMetadata": {},
     "inputWidgets": {},
     "nuid": "9a54ff67-04d7-4993-8eda-54158e89ad68",
     "showTitle": false,
     "tableResultSettingsMap": {},
     "title": ""
    }
   },
   "source": [
    "###Make Predictions"
   ]
  },
  {
   "cell_type": "code",
   "execution_count": 0,
   "metadata": {
    "application/vnd.databricks.v1+cell": {
     "cellMetadata": {
      "byteLimit": 2048000,
      "rowLimit": 10000
     },
     "inputWidgets": {},
     "nuid": "d0c4ff9d-a76c-4a64-a221-313c7a846d43",
     "showTitle": false,
     "tableResultSettingsMap": {},
     "title": ""
    }
   },
   "outputs": [
    {
     "name": "stdout",
     "output_type": "stream",
     "text": [
      "Top 5 book recommendations (titles) for each user:\n",
      "+-------+---------------------------------+\n",
      "|User-ID|Book-Title                       |\n",
      "+-------+---------------------------------+\n",
      "|277665 |Friedhof der Kuscheltiere. Roman.|\n",
      "|193003 |Friedhof der Kuscheltiere. Roman.|\n",
      "|32847  |Friedhof der Kuscheltiere. Roman.|\n",
      "|269615 |Blackout                         |\n",
      "|255086 |Blackout                         |\n",
      "|209306 |Blackout                         |\n",
      "|177454 |Blackout                         |\n",
      "|150019 |Blackout                         |\n",
      "|90793  |Blackout                         |\n",
      "|67003  |Blackout                         |\n",
      "|59820  |Blackout                         |\n",
      "|8535   |Blackout                         |\n",
      "|2508   |Blackout                         |\n",
      "|208088 |Blackout                         |\n",
      "|163174 |Blackout                         |\n",
      "|162223 |Blackout                         |\n",
      "|108960 |Blackout                         |\n",
      "|17583  |Blackout                         |\n",
      "|273022 |Blackout                         |\n",
      "|236643 |Blackout                         |\n",
      "+-------+---------------------------------+\n",
      "only showing top 20 rows\n",
      "\n"
     ]
    }
   ],
   "source": [
    "\n",
    "# Make book recommendations for each user\n",
    "user_recommendations = model.recommendForAllUsers(5)  # Recommend 5 books for each user\n",
    "\n",
    "# Explode the recommendations array to get individual recommendations\n",
    "exploded_recommendations = user_recommendations \\\n",
    "    .withColumn(\"recommendation\", explode(user_recommendations[\"recommendations\"])) \\\n",
    "    .select(col(\"User-ID\"), col(\"recommendation.ISBNIndex\").alias(\"ISBNIndex\"))\n",
    "\n",
    "# Join with indexed_df to get the complete book titles based on ISBNIndex\n",
    "user_recommendations_with_titles = exploded_recommendations \\\n",
    "    .join(indexed_df, \"ISBNIndex\") \\\n",
    "    .select(exploded_recommendations[\"User-ID\"], indexed_df[\"Book-Title\"])\n",
    "\n",
    "# Show 5 recommendations of book titles for each user\n",
    "print(\"Top 5 book recommendations (titles) for each user:\")\n",
    "user_recommendations_with_titles.show(truncate=False)"
   ]
  }
 ],
 "metadata": {
  "application/vnd.databricks.v1+notebook": {
   "computePreferences": null,
   "dashboards": [],
   "environmentMetadata": {
    "base_environment": "",
    "environment_version": "2"
   },
   "language": "python",
   "notebookMetadata": {
    "pythonIndentUnit": 4
   },
   "notebookName": "Book Recommendation System Project",
   "widgets": {}
  },
  "kernelspec": {
   "display_name": "Python 3",
   "language": "python",
   "name": "python3"
  },
  "language_info": {
   "codemirror_mode": {
    "name": "ipython",
    "version": 3
   },
   "file_extension": ".py",
   "mimetype": "text/x-python",
   "name": "python",
   "nbconvert_exporter": "python",
   "pygments_lexer": "ipython3",
   "version": "3.12.6"
  }
 },
 "nbformat": 4,
 "nbformat_minor": 0
}
